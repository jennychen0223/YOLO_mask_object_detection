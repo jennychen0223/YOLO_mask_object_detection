{
 "cells": [
  {
   "cell_type": "code",
   "execution_count": 6,
   "id": "00747297",
   "metadata": {
    "scrolled": true
   },
   "outputs": [
    {
     "name": "stdout",
     "output_type": "stream",
     "text": [
      "<!doctype html>\n",
      "<html>\n",
      "  <head>\n",
      "    <meta charset=\"UTF-8\">\n",
      "    <title>Hello</title>\n",
      "  </head>\n",
      "  <body>\n",
      "    <p>Hello World!</p>\n",
      "  </body>\n",
      "</html>\n"
     ]
    }
   ],
   "source": [
    "import requests\n",
    "url = \"http://www.ehappy.tw/demo.htm\"\n",
    "\n",
    "r = requests.get(url)\n",
    "\n",
    "if r.status_code == requests.codes.ok:\n",
    "    print(r.text)"
   ]
  },
  {
   "cell_type": "code",
   "execution_count": 7,
   "id": "1f7eaef9",
   "metadata": {},
   "outputs": [
    {
     "name": "stdout",
     "output_type": "stream",
     "text": [
      "<!doctype html>\n",
      "<html>\n",
      "  <head>\n",
      "    <meta charset=\"UTF-8\">\n",
      "    <title>Hello</title>\n",
      "  </head>\n",
      "  <body>\n",
      "    <p>Hello World!</p>\n",
      "  </body>\n",
      "</html>\n"
     ]
    }
   ],
   "source": [
    "url = \"http://www.ehappy.tw/demo.htm\"\n",
    "\n",
    "r = requests.get(url)\n",
    "\n",
    "if r.status_code == 200:\n",
    "    print(r.text)"
   ]
  },
  {
   "cell_type": "markdown",
   "id": "05b09e3e",
   "metadata": {},
   "source": [
    "### \"http://httpbin.org/get\" 測試網址"
   ]
  },
  {
   "cell_type": "code",
   "execution_count": 8,
   "id": "e6a73be2",
   "metadata": {
    "scrolled": false
   },
   "outputs": [
    {
     "name": "stdout",
     "output_type": "stream",
     "text": [
      "{\n",
      "  \"args\": {\n",
      "    \"x\": \"value1\", \n",
      "    \"y\": \"value2\"\n",
      "  }, \n",
      "  \"headers\": {\n",
      "    \"Accept\": \"*/*\", \n",
      "    \"Accept-Encoding\": \"gzip, deflate\", \n",
      "    \"Host\": \"httpbin.org\", \n",
      "    \"User-Agent\": \"python-requests/2.25.1\", \n",
      "    \"X-Amzn-Trace-Id\": \"Root=1-60e54870-1afcddef34ebcdcb757f3438\"\n",
      "  }, \n",
      "  \"origin\": \"124.12.49.6\", \n",
      "  \"url\": \"http://httpbin.org/get?x=value1&y=value2\"\n",
      "}\n",
      "\n"
     ]
    }
   ],
   "source": [
    "payload = {\"x\":\"value1\", \"y\":\"value2\"}\n",
    "r = requests.get(\"http://httpbin.org/get\", params=payload)\n",
    "\n",
    "print(r.text)"
   ]
  },
  {
   "cell_type": "code",
   "execution_count": 9,
   "id": "0015a3be",
   "metadata": {},
   "outputs": [
    {
     "name": "stdout",
     "output_type": "stream",
     "text": [
      "{\n",
      "  \"args\": {}, \n",
      "  \"data\": \"\", \n",
      "  \"files\": {}, \n",
      "  \"form\": {\n",
      "    \"x\": \"value1\", \n",
      "    \"y\": \"value2\"\n",
      "  }, \n",
      "  \"headers\": {\n",
      "    \"Accept\": \"*/*\", \n",
      "    \"Accept-Encoding\": \"gzip, deflate\", \n",
      "    \"Content-Length\": \"17\", \n",
      "    \"Content-Type\": \"application/x-www-form-urlencoded\", \n",
      "    \"Host\": \"httpbin.org\", \n",
      "    \"User-Agent\": \"python-requests/2.25.1\", \n",
      "    \"X-Amzn-Trace-Id\": \"Root=1-60e54874-4bb6a11f42ac4a8c688746a4\"\n",
      "  }, \n",
      "  \"json\": null, \n",
      "  \"origin\": \"124.12.49.6\", \n",
      "  \"url\": \"http://httpbin.org/post\"\n",
      "}\n",
      "\n"
     ]
    }
   ],
   "source": [
    "payload = {\"x\":\"value1\", \"y\":\"value2\"}\n",
    "r = requests.post(\"http://httpbin.org/post\", data=payload)\n",
    "\n",
    "print(r.text)"
   ]
  },
  {
   "cell_type": "code",
   "execution_count": 4,
   "id": "d3db14e5",
   "metadata": {},
   "outputs": [
    {
     "name": "stdout",
     "output_type": "stream",
     "text": [
      "<title>chiayulin</title>\n",
      "chiayulin\n",
      "<h1 class=\"CDt4Ke zfr3Q duRjpb\" dir=\"ltr\" id=\"h.p_ID_13\" style=\"text-align: center;\">Home</h1>\n",
      "<p class=\"CDt4Ke zfr3Q\" dir=\"ltr\"><span class=\"aw5Odc\" style=\"font-family: 'Lato'; text-decoration: underline;\"><a class=\"XqQF9c\" href=\"http://www.google.com/url?q=http%3A%2F%2Fwww.dece.nctu.edu.tw%2FNCTU_CM%2Fmain.php&amp;sa=D&amp;sntz=1&amp;usg=AFQjCNHDEBqYA16eprtvUFoCSaudgkOO3g\" target=\"_blank\"><strong>Department of Computer Science and Engineering</strong></a></span></p>\n"
     ]
    }
   ],
   "source": [
    "import requests\n",
    "from bs4 import BeautifulSoup\n",
    "\n",
    "url = \"https://sites.google.com/site/chiayulin0121/\"\n",
    "\n",
    "html = requests.get(url)\n",
    "html.encoding = \"UTF-8\"\n",
    "\n",
    "sp = BeautifulSoup(html.text, \"lxml\")\n",
    "\n",
    "print(sp.title)\n",
    "print(sp.title.text)\n",
    "print(sp.h1)\n",
    "print(sp.p)"
   ]
  },
  {
   "cell_type": "code",
   "execution_count": 7,
   "id": "85662afb",
   "metadata": {},
   "outputs": [
    {
     "name": "stdout",
     "output_type": "stream",
     "text": [
      "<p id=\"p1\">我是段落ㄧ</p>\n",
      "[<p id=\"p1\">我是段落ㄧ</p>, <p class=\"red\" id=\"p2\">我是段落二</p>]\n",
      "<p class=\"red\" id=\"p2\">我是段落二</p>\n",
      "<p class=\"red\" id=\"p2\">我是段落二</p>\n"
     ]
    }
   ],
   "source": [
    "html = '''\n",
    "    <html>\n",
    "        <head>\n",
    "            <meta charset=\"UTF-8\">\n",
    "            <title>我是網頁標題</title>\n",
    "        </head>\n",
    "        <body>\n",
    "            <div>\n",
    "                <p id=\"p1\">我是段落ㄧ</p>\n",
    "                <p id=\"p2\" class=\"red\">我是段落二</p>\n",
    "            </div>\n",
    "        </body>\n",
    "    </html>\n",
    "    '''\n",
    "\n",
    "sp = BeautifulSoup(html, 'lxml')\n",
    "print(sp.find('p'))\n",
    "print(sp.find_all('p'))\n",
    "print(sp.find('p', {\"id\":\"p2\", \"class\":\"red\"}))\n",
    "print(sp.find('p', id=\"p2\", class_=\"red\"))\n"
   ]
  },
  {
   "cell_type": "markdown",
   "id": "68abe609",
   "metadata": {},
   "source": [
    "### class_=\"red\" 底線是.text用法"
   ]
  },
  {
   "cell_type": "markdown",
   "id": "e04b26e2",
   "metadata": {},
   "source": [
    "## select()方法：用在CSS"
   ]
  },
  {
   "cell_type": "code",
   "execution_count": 8,
   "id": "f55cebf4",
   "metadata": {},
   "outputs": [
    {
     "name": "stdout",
     "output_type": "stream",
     "text": [
      "[<title>我是網頁標題</title>]\n",
      "[<p id=\"p1\">我是段落ㄧ</p>, <p class=\"red\" id=\"p2\">我是段落二</p>]\n",
      "[<p id=\"p1\">我是段落ㄧ</p>]\n",
      "[<p class=\"red\" id=\"p2\">我是段落二</p>]\n"
     ]
    }
   ],
   "source": [
    "html = '''\n",
    "    <html>\n",
    "        <head>\n",
    "            <meta charset=\"UTF-8\">\n",
    "            <title>我是網頁標題</title>\n",
    "        </head>\n",
    "        <body>\n",
    "            <div>\n",
    "                <p id=\"p1\">我是段落ㄧ</p>\n",
    "                <p id=\"p2\" class=\"red\">我是段落二</p>\n",
    "            </div>\n",
    "        </body>\n",
    "    </html>\n",
    "    '''\n",
    "\n",
    "sp = BeautifulSoup(html, 'lxml')\n",
    "print(sp.select('title'))\n",
    "print(sp.select('p'))\n",
    "print(sp.select('#p1'))\n",
    "print(sp.select('.red'))"
   ]
  },
  {
   "cell_type": "code",
   "execution_count": 10,
   "id": "c4ca69af",
   "metadata": {},
   "outputs": [
    {
     "name": "stdout",
     "output_type": "stream",
     "text": [
      "http://www.ehappy.tw/python.png\n",
      "http://www.e-happy.com.tw\n",
      "http://www.ehappy.tw/python.png\n",
      "http://www.e-happy.com.tw\n"
     ]
    }
   ],
   "source": [
    "html = '''\n",
    "    <html>\n",
    "        <head>\n",
    "            <meta charset=\"UTF-8\">\n",
    "            <title>我是網頁標題</title>\n",
    "        </head>\n",
    "        <body>\n",
    "            <img src=\"http://www.ehappy.tw/python.png\">\n",
    "            <a href=\"http://www.e-happy.com.tw\">超連結</a>\n",
    "        </body>\n",
    "    </html>\n",
    "    '''\n",
    "sp=BeautifulSoup(html, \"lxml\")\n",
    "print(sp.select(\"img\")[0].get(\"src\"))\n",
    "print(sp.select(\"a\")[0].get(\"href\"))\n",
    "\n",
    "print(sp.select(\"img\")[0][\"src\"])\n",
    "print(sp.select(\"a\")[0][\"href\"])\n"
   ]
  },
  {
   "cell_type": "code",
   "execution_count": 16,
   "id": "31ccdbdc",
   "metadata": {},
   "outputs": [
    {
     "name": "stdout",
     "output_type": "stream",
     "text": [
      "威力彩期數：110/7/5 第110000053期 \n",
      "開出順序：\n",
      "17 10 04 11 18 24 \n",
      "大小順序：\n",
      "04 10 11 17 18 24 \n",
      "第二區：01 \n"
     ]
    }
   ],
   "source": [
    "import requests\n",
    "from bs4 import BeautifulSoup\n",
    "\n",
    "url = \"https://www.taiwanlottery.com.tw/index_new.aspx\"\n",
    "\n",
    "html = requests.get(url)\n",
    "html.encoding = \"UTF-8\"\n",
    "\n",
    "sp = BeautifulSoup(html.text, \"lxml\")\n",
    "\n",
    "a = sp.find('div', class_=\"contents_box02\")\n",
    "b = a.find('span', class_=\"font_black15\")\n",
    "c = a.find_all('div', class_=\"ball_tx ball_green\")\n",
    "d = a.find('div', class_=\"ball_red\")\n",
    "\n",
    "print(\"威力彩期數：%s\" %b.text)\n",
    "\n",
    "print(\"開出順序：\")\n",
    "for i in range(0,6):\n",
    "    print(c[i].text, end=\"\")\n",
    "print()\n",
    "    \n",
    "print(\"大小順序：\")\n",
    "for i in range(6,len(c)):\n",
    "    print(c[i].text, end=\"\")\n",
    "    \n",
    "print()\n",
    "print(\"第二區：%s\" %d.text)"
   ]
  },
  {
   "cell_type": "code",
   "execution_count": null,
   "id": "c4d9b3be",
   "metadata": {},
   "outputs": [],
   "source": []
  }
 ],
 "metadata": {
  "kernelspec": {
   "display_name": "Python 3",
   "language": "python",
   "name": "python3"
  },
  "language_info": {
   "codemirror_mode": {
    "name": "ipython",
    "version": 3
   },
   "file_extension": ".py",
   "mimetype": "text/x-python",
   "name": "python",
   "nbconvert_exporter": "python",
   "pygments_lexer": "ipython3",
   "version": "3.8.10"
  }
 },
 "nbformat": 4,
 "nbformat_minor": 5
}
